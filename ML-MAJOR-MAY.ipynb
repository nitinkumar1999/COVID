{
 "cells": [
  {
   "cell_type": "code",
   "execution_count": null,
   "metadata": {},
   "outputs": [],
   "source": [
    "import pandas as pd\n",
    "import matplotlib.pyplot as plt\n",
    "import seaborn as sns\n",
    "import numpy as np\n",
    "%matplotlib inline"
   ]
  },
  {
   "cell_type": "code",
   "execution_count": null,
   "metadata": {},
   "outputs": [],
   "source": [
    "fx = pd.read_csv('C:/Users/Nitin/owid-covid-data.csv')\n",
    "\n",
    "\n",
    "print(fx)"
   ]
  },
  {
   "cell_type": "code",
   "execution_count": null,
   "metadata": {},
   "outputs": [],
   "source": [
    "fy = pd.read_csv('C:/Users/Nitin/owid-covid-data.csv',encoding=\"ISO-8859-1\")\n",
    "print(fy)"
   ]
  },
  {
   "cell_type": "code",
   "execution_count": null,
   "metadata": {},
   "outputs": [],
   "source": [
    "fy.shape"
   ]
  },
  {
   "cell_type": "code",
   "execution_count": null,
   "metadata": {},
   "outputs": [],
   "source": [
    "fy.columns.values"
   ]
  },
  {
   "cell_type": "code",
   "execution_count": null,
   "metadata": {},
   "outputs": [],
   "source": [
    "fx=fy.head()\n",
    "print(fx)"
   ]
  },
  {
   "cell_type": "code",
   "execution_count": null,
   "metadata": {},
   "outputs": [],
   "source": [
    "fx1=fy.iloc[[12621,12622,12623,12624,12625,12626,12627,12628,12629,12630,12631,\n",
    "             12632,12633,12634,12635,12636,12637,12638,12639,12640,12641,12642,\n",
    "             12643,12644,12645,12646,12647,12648,12649,12650,12651,12652,12653,\n",
    "             12654,12655,12656,12657,12658,12659,12660,12661,12662,12663,12664,\n",
    "             12665,12666,12667,12668,12669,12670,12671,12672,12673,12674,12675,\n",
    "             12676,12677,12678,12679,12680,12681,12682,12683,12684,12685,12686,\n",
    "12687,12689,12690,12691,12692,12693,12694,12695,12696,12697,12698,12699,12700,\n",
    "             12701,12702,12703,12704,12705,12706,12708,12709,12710,12711,12712,\n",
    "             12713,12714,12715,12716,12717,12718,12719,12720,\n",
    "             12721,12722,12723,12724,12725,12726,12727,12728,12729,12730,12731,\n",
    "             12732,12733,12734,12735,12736,12737,12738,12739,12740,12741,12742,\n",
    "             12743,12744,12745,12746,12747,12748,12749,12750,12751,12752,12753,\n",
    "             12754,12755,12756,12757,12758,12759,12760,12761,12762,12763,12764,\n",
    "             12765,12766,12767,12768,12769,12770,12771,12772,12773,12774,12775,\n",
    "             12776,12777,12778,12779,12780,12781,12782,12783,12784,12785,12786,\n",
    "12787,12789,12790,12791,12792,12793,12794,12795,12796,12797,12798,12799,12800,\n",
    "            12801,12802,12803,12804,12805,12806,12808,12809,12810,12811,12812,\n",
    "             12813,12814,12815,12816]]\n",
    "print(fx1)"
   ]
  },
  {
   "cell_type": "code",
   "execution_count": null,
   "metadata": {},
   "outputs": [],
   "source": [
    "plt.figure(figsize=(30,18))\n",
    "sns.heatmap(fx1.corr(),annot=True)"
   ]
  },
  {
   "cell_type": "code",
   "execution_count": null,
   "metadata": {},
   "outputs": [],
   "source": [
    "fx1=fx1[fx1.location==\"India\"]\n",
    "fx1.head(5)"
   ]
  },
  {
   "cell_type": "code",
   "execution_count": null,
   "metadata": {},
   "outputs": [],
   "source": [
    "for column in fx1:\n",
    "    if fx1[column].dtype == np.int64 or fx1[column].dtype == np.float64:\n",
    "        fx1[column].hist(edgecolor='k',color='orange')\n",
    "        plt.xlabel(column)\n",
    "        plt.show()"
   ]
  },
  {
   "cell_type": "code",
   "execution_count": null,
   "metadata": {},
   "outputs": [],
   "source": [
    "np.mean(fx1)"
   ]
  },
  {
   "cell_type": "code",
   "execution_count": null,
   "metadata": {},
   "outputs": [],
   "source": [
    "fx1.median()"
   ]
  },
  {
   "cell_type": "code",
   "execution_count": null,
   "metadata": {},
   "outputs": [],
   "source": [
    "fx1.mode().iloc[0]"
   ]
  },
  {
   "cell_type": "code",
   "execution_count": null,
   "metadata": {},
   "outputs": [],
   "source": [
    "for column in fx1:\n",
    "    for i in fx1:\n",
    "         if( column>i and i!=column and fx1[column].dtypes==\"float64\" and (fx1[i].dtypes==\"float64\" or i==\"date\")):\n",
    "             fx1.plot(x=i,y=column,kind='scatter',color=\"b\",figsize=(10,8))\n",
    "             plt.show()"
   ]
  },
  {
   "cell_type": "code",
   "execution_count": null,
   "metadata": {},
   "outputs": [],
   "source": [
    "for column in fx1:\n",
    "    if fx1[column].dtype == np.int64 or fx1[column].dtype == np.float64:\n",
    "        for i in fx1:\n",
    "            if fx1[i].dtype == np.int64 or fx1[i].dtype == np.float64:\n",
    "                sns.lmplot(column,i,data=fx1,order=1)\n",
    "                plt.xlabel(i)\n",
    "                plt.show()"
   ]
  },
  {
   "cell_type": "code",
   "execution_count": null,
   "metadata": {},
   "outputs": [],
   "source": [
    "fx1.isna().sum()"
   ]
  },
  {
   "cell_type": "code",
   "execution_count": null,
   "metadata": {},
   "outputs": [],
   "source": [
    "fx1.shape"
   ]
  },
  {
   "cell_type": "code",
   "execution_count": null,
   "metadata": {},
   "outputs": [],
   "source": [
    "fx1=fx1.fillna(fx1.mean())\n",
    "fx1=fx1.fillna(fx1.mode().iloc[0])"
   ]
  },
  {
   "cell_type": "code",
   "execution_count": null,
   "metadata": {},
   "outputs": [],
   "source": [
    "fx1.isna().sum()"
   ]
  },
  {
   "cell_type": "code",
   "execution_count": null,
   "metadata": {},
   "outputs": [],
   "source": [
    "import datetime as dt \n",
    "fx1[\"date\"]=pd.to_datetime(fx1[\"date\"])\n",
    "fx1[\"date\"]=fx1[\"date\"].map(dt.datetime.toordinal)"
   ]
  },
  {
   "cell_type": "code",
   "execution_count": null,
   "metadata": {},
   "outputs": [],
   "source": [
    "for column in fx1:\n",
    "    if fx1[column].dtype != np.int64 and fx1[column].dtype != np.float64:\n",
    "        fx1=fx1.drop([column],axis=1)"
   ]
  },
  {
   "cell_type": "code",
   "execution_count": null,
   "metadata": {},
   "outputs": [],
   "source": [
    "from sklearn.model_selection import train_test_split\n",
    "from sklearn.linear_model import LinearRegression\n",
    "target=fx1[\"total_cases\"].values\n",
    "features=fx1.drop(['total_cases'],axis=1).values\n",
    "X_train,X_test,y_train,y_test=train_test_split(features,target,test_size=0.3,random_state=42)\n",
    "reg_all=LinearRegression()\n",
    "reg_all.fit(X_train,y_train)\n",
    "y_pred=reg_all.predict(X_test)\n",
    "reg_all.score(X_test,y_test)"
   ]
  },
  {
   "cell_type": "code",
   "execution_count": null,
   "metadata": {},
   "outputs": [],
   "source": [
    "from sklearn.ensemble import RandomForestRegressor\n",
    "regressor=RandomForestRegressor(n_estimators=25,random_state=0)\n",
    "regressor.fit(X_train,y_train)\n",
    "from sklearn.metrics import mean_squared_error as MSE\n",
    "rfc_pred=regressor.predict(X_test)\n",
    "rmse_test=MSE(y_test,rfc_pred)**(1/2)\n",
    "print('Test set rmse of rf:{:.2f}'.format(rmse_test))"
   ]
  },
  {
   "cell_type": "code",
   "execution_count": null,
   "metadata": {},
   "outputs": [],
   "source": [
    "conclusion=pd.DataFrame({'models':[\"Linear Regressor\",\"Random Forest\"],'Accuracies':[reg_all.score(X_test,y_test),rmse_test]})\n"
   ]
  },
  {
   "cell_type": "code",
   "execution_count": null,
   "metadata": {},
   "outputs": [],
   "source": [
    "conclusion"
   ]
  },
  {
   "cell_type": "code",
   "execution_count": null,
   "metadata": {},
   "outputs": [],
   "source": [
    "from datetime import datetime\n",
    "date = datetime.strptime('2020-07-09', '%Y-%M-%d')\n",
    "dnew = date.toordinal()\n",
    "dnew"
   ]
  },
  {
   "cell_type": "code",
   "execution_count": null,
   "metadata": {},
   "outputs": [],
   "source": [
    "x_new = np.array([dnew,24879,21129,487,18.028,15.311,0.353,0.194,54.02536,1380004385,450.419,28.2,5.989,3.414,6426.674,21.2,282.28,10.39,1.9,20.6,0.53,69.66]).reshape(1, -1)\n",
    "print(x_new.shape)\n",
    "reg_all.predict(x_new)\n"
   ]
  },
  {
   "cell_type": "code",
   "execution_count": null,
   "metadata": {},
   "outputs": [],
   "source": []
  }
 ],
 "metadata": {
  "kernelspec": {
   "display_name": "Python 3",
   "language": "python",
   "name": "python3"
  },
  "language_info": {
   "codemirror_mode": {
    "name": "ipython",
    "version": 3
   },
   "file_extension": ".py",
   "mimetype": "text/x-python",
   "name": "python",
   "nbconvert_exporter": "python",
   "pygments_lexer": "ipython3",
   "version": "3.7.6"
  }
 },
 "nbformat": 4,
 "nbformat_minor": 4
}
